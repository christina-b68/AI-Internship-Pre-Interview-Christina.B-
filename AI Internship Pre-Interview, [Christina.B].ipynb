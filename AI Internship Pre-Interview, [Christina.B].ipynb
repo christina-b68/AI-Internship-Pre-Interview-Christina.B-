{
 "cells": [
  {
   "cell_type": "markdown",
   "metadata": {},
   "source": [
    "# AI Internship Pre-Interview, [Christina.B]"
   ]
  },
  {
   "cell_type": "code",
   "execution_count": 23,
   "metadata": {},
   "outputs": [],
   "source": [
    "class Tensor():\n",
    "\n",
    "    def __init__(self, data, shape):\n",
    "        self.data = data     \n",
    "        self.shape = shape       \n",
    "        self.size = self.multiplyList()\n",
    "        self.data = self.check_list_size()\n",
    "        self.tensor = self.shape_data(self.data,self.shape)\n",
    "    \n",
    "    def multiplyList(self) : \n",
    "        # Multiply elements one by one \n",
    "        result = 1\n",
    "        for x in self.shape: \n",
    "             result = result * x  \n",
    "        return result  \n",
    "    \n",
    "    def check_list_size(self):   \n",
    "        temp = len(self.data)\n",
    "        if self.size > temp:\n",
    "            for i in range(temp,self.size):\n",
    "                self.data.append(0)\n",
    "        if self.size <len(self.data):\n",
    "            # print(self.data)\n",
    "            self.data =(self.data[:self.size])\n",
    "            # print(self.data)\n",
    "        return self.data\n",
    "        \n",
    "\n",
    "    \n",
    "    def foo(self,data0,pair):\n",
    "#     pair  = 2 \n",
    "        whole_list = []\n",
    "        list_pair= []\n",
    "        start = 0\n",
    "        for i in data0:\n",
    "            list_pair.append(i)\n",
    "            start+=1\n",
    "            if start == pair:\n",
    "                whole_list.append(list_pair)\n",
    "                start = 0\n",
    "                list_pair = []\n",
    "        return whole_list\n",
    "    \n",
    "    def shape_data(self,listt , shape):\n",
    "        templist = []\n",
    "        templist = self.foo(listt,shape[-1])\n",
    "        for i in (range(1,len(shape)-1)):\n",
    "            templist = self.foo(templist,shape[i])\n",
    "        return templist\n",
    "\n",
    "    def print_tensor(self):\n",
    "        print(self.tensor)\n",
    "    \n",
    "        "
   ]
  },
  {
   "cell_type": "code",
   "execution_count": 24,
   "metadata": {},
   "outputs": [
    {
     "name": "stdout",
     "output_type": "stream",
     "text": [
      "[[[0, 1], [2, 3], [4, 5]], [[0.1, 0.2], [-3, 0], [0, 0]]]\n"
     ]
    }
   ],
   "source": [
    "data0 = [0, 1, 2, 3, 4, 5, 0.1, 0.2, -3]\n",
    "shape0 = [2,3,2]\n",
    "tensor0 = Tensor(data0,shape0)\n",
    "tensor0.print_tensor()"
   ]
  },
  {
   "cell_type": "code",
   "execution_count": 25,
   "metadata": {},
   "outputs": [
    {
     "name": "stdout",
     "output_type": "stream",
     "text": [
      "[[0, 1], [2, 3], [4, 5], [0.1, 0.2], [-3, -2]]\n"
     ]
    }
   ],
   "source": [
    "#case 2     \n",
    "        \n",
    "data1 = [0, 1, 2, 3, 4, 5, 0.1, 0.2, -3, -2, -1, 3, 2, 1]\n",
    "shape1 = [5,2]\n",
    "tensor1 = Tensor(data1,shape1)\n",
    "tensor1.print_tensor()"
   ]
  },
  {
   "cell_type": "code",
   "execution_count": null,
   "metadata": {},
   "outputs": [],
   "source": []
  }
 ],
 "metadata": {
  "kernelspec": {
   "display_name": "Python 3",
   "language": "python",
   "name": "python3"
  },
  "language_info": {
   "codemirror_mode": {
    "name": "ipython",
    "version": 3
   },
   "file_extension": ".py",
   "mimetype": "text/x-python",
   "name": "python",
   "nbconvert_exporter": "python",
   "pygments_lexer": "ipython3",
   "version": "3.7.3"
  }
 },
 "nbformat": 4,
 "nbformat_minor": 2
}
